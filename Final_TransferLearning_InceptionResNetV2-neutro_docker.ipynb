{
 "cells": [
  {
   "cell_type": "code",
   "execution_count": 12,
   "metadata": {},
   "outputs": [],
   "source": [
    "import tensorflow as tf\n",
    "import numpy as np\n",
    "from tensorflow.keras.layers import GlobalAveragePooling2D, Input, Dense, Dropout, Flatten\n",
    "from tensorflow.keras.models import Model, Sequential\n",
    "from tensorflow.keras.optimizers import Adam\n",
    "from tensorflow.keras.applications.inception_resnet_v2 import InceptionResNetV2, preprocess_input\n",
    "from tensorflow.keras.preprocessing.image import ImageDataGenerator\n",
    "from tensorflow.keras.callbacks import TensorBoard, EarlyStopping\n",
    "from sklearn.metrics import classification_report, confusion_matrix\n",
    "import time\n",
    "import matplotlib.pyplot as plt\n",
    "import itertools\n",
    "import pickle"
   ]
  },
  {
   "cell_type": "code",
   "execution_count": 8,
   "metadata": {},
   "outputs": [],
   "source": [
    "SIZE=299\n",
    "CHANNEL=3\n",
    "IMAGE_SHAPE=(SIZE, SIZE, CHANNEL)\n",
    "\n",
    "BATCH_SIZE=4\n",
    "EPOCHS=50\n",
    "\n",
    "train_dir=\"D:/Datasets/Neutrophil-dataset/NeutrophilImages_split/neutrophil_train\"\n",
    "valid_dir=\"D:/Datasets/Neutrophil-dataset/NeutrophilImages_split/neutrophil_validiation\"\n",
    "test_dir=\"D:/Datasets/Neutrophil-dataset/NeutrophilImages_split/neutrophil_test\""
   ]
  },
  {
   "cell_type": "code",
   "execution_count": 5,
   "metadata": {},
   "outputs": [
    {
     "name": "stdout",
     "output_type": "stream",
     "text": [
      "Found 157 images belonging to 2 classes.\n",
      "Found 20 images belonging to 2 classes.\n",
      "Found 20 images belonging to 2 classes.\n"
     ]
    }
   ],
   "source": [
    "train_datagen=ImageDataGenerator(rescale=1./255,\n",
    "                                  rotation_range=10,\n",
    "                                  width_shift_range=0.2,\n",
    "                                  height_shift_range=0.2,\n",
    "                                  zoom_range=0.2,\n",
    "                                  horizontal_flip=True,\n",
    "                                  vertical_flip=True)\n",
    "\n",
    "train_generator=train_datagen.flow_from_directory(train_dir,\n",
    "                                                   target_size=(SIZE, SIZE),\n",
    "                                                   color_mode=\"rgb\",\n",
    "                                                   batch_size=BATCH_SIZE,\n",
    "                                                   seed=19,\n",
    "                                                   shuffle=True,\n",
    "                                                   class_mode=\"categorical\")\n",
    "\n",
    "valid_datagen=ImageDataGenerator(rescale=1./255)\n",
    "valid_generator=valid_datagen.flow_from_directory(valid_dir,\n",
    "                                                  target_size=(SIZE, SIZE),\n",
    "                                                  color_mode=\"rgb\",\n",
    "                                                  batch_size=BATCH_SIZE,\n",
    "                                                  seed=19,\n",
    "                                                  shuffle=True,\n",
    "                                                  class_mode=\"categorical\")\n",
    "\n",
    "test_datagen=ImageDataGenerator(rescale=1./255)\n",
    "test_generator=test_datagen.flow_from_directory(test_dir,\n",
    "                                                  target_size=(SIZE, SIZE),\n",
    "                                                  color_mode=\"rgb\",\n",
    "                                                  batch_size=BATCH_SIZE,\n",
    "                                                  seed=19,\n",
    "                                                  shuffle=True,\n",
    "                                                  class_mode=\"categorical\")\n",
    "\n",
    "train_num=train_generator.samples\n",
    "valid_num=valid_generator.samples"
   ]
  },
  {
   "cell_type": "code",
   "execution_count": 6,
   "metadata": {},
   "outputs": [],
   "source": [
    "#Instanciando modelo a partir de InceptionResNetV2\n",
    "\n",
    "inception_model=InceptionResNetV2(input_shape=(299, 299, 3), weights='imagenet', include_top=False, classes=2)\n",
    "\n",
    "for layer in inception_model.layers:\n",
    "    layer.trainable=False"
   ]
  },
  {
   "cell_type": "code",
   "execution_count": 7,
   "metadata": {},
   "outputs": [],
   "source": [
    "# Definindo o otimizador para compilar o modelo\n",
    "OPT=Adam(learning_rate=1e-5) # learning_rate default = 0.001\n",
    "\n",
    "# Adicionando novas camadas nas parte final do modelo\n",
    "in_layer=Input(shape=IMAGE_SHAPE,dtype=tf.uint8)\n",
    "x=tf.cast(in_layer, tf.float32)\n",
    "x=preprocess_input(x)\n",
    "\n",
    "x=inception_model(x, training=False)\n",
    "x=GlobalAveragePooling2D()(x)\n",
    "dense_layer=Dense(64, activation='relu', kernel_initializer='he_normal')(x)\n",
    "drop_out=Dropout(0.4)(dense_layer)\n",
    "out_layer=Dense(2, activation='softmax')(drop_out)\n",
    "\n",
    "\n",
    "# Instanciando o modelo final com as devidas ateracoes\n",
    "model=Model(inputs=in_layer, outputs=out_layer)\n",
    "\n",
    "model.compile(loss='categorical_crossentropy',\n",
    "              optimizer=OPT, \n",
    "              metrics=['accuracy'])"
   ]
  },
  {
   "cell_type": "code",
   "execution_count": 9,
   "metadata": {
    "scrolled": true
   },
   "outputs": [
    {
     "name": "stdout",
     "output_type": "stream",
     "text": [
      "WARNING:tensorflow:From <ipython-input-9-c74fc6ab18b7>:1: Model.fit_generator (from tensorflow.python.keras.engine.training) is deprecated and will be removed in a future version.\n",
      "Instructions for updating:\n",
      "Please use Model.fit, which supports generators.\n",
      "Epoch 1/50\n",
      "39/39 [==============================] - 13s 323ms/step - loss: 0.7332 - accuracy: 0.5229 - val_loss: 0.6871 - val_accuracy: 0.5500\n",
      "Epoch 2/50\n",
      "39/39 [==============================] - 6s 141ms/step - loss: 0.7064 - accuracy: 0.5621 - val_loss: 0.6237 - val_accuracy: 0.5500\n",
      "Epoch 3/50\n",
      "39/39 [==============================] - 5s 140ms/step - loss: 0.7043 - accuracy: 0.4967 - val_loss: 0.5661 - val_accuracy: 0.5500\n",
      "Epoch 4/50\n",
      "39/39 [==============================] - 6s 143ms/step - loss: 0.6023 - accuracy: 0.6154 - val_loss: 0.5182 - val_accuracy: 0.5500\n",
      "Epoch 5/50\n",
      "39/39 [==============================] - 6s 141ms/step - loss: 0.5365 - accuracy: 0.7190 - val_loss: 0.4739 - val_accuracy: 0.9500\n",
      "Epoch 6/50\n",
      "39/39 [==============================] - 6s 144ms/step - loss: 0.5196 - accuracy: 0.7386 - val_loss: 0.4374 - val_accuracy: 1.0000\n",
      "Epoch 7/50\n",
      "39/39 [==============================] - 6s 142ms/step - loss: 0.5280 - accuracy: 0.7908 - val_loss: 0.4052 - val_accuracy: 1.0000\n",
      "Epoch 8/50\n",
      "39/39 [==============================] - 6s 147ms/step - loss: 0.4904 - accuracy: 0.8562 - val_loss: 0.3733 - val_accuracy: 1.0000\n",
      "Epoch 9/50\n",
      "39/39 [==============================] - 6s 147ms/step - loss: 0.4609 - accuracy: 0.8627 - val_loss: 0.3445 - val_accuracy: 1.0000\n",
      "Epoch 10/50\n",
      "39/39 [==============================] - 6s 145ms/step - loss: 0.4428 - accuracy: 0.8693 - val_loss: 0.3188 - val_accuracy: 1.0000\n",
      "Epoch 11/50\n",
      "39/39 [==============================] - 6s 142ms/step - loss: 0.4066 - accuracy: 0.9346 - val_loss: 0.2959 - val_accuracy: 1.0000\n",
      "Epoch 12/50\n",
      "39/39 [==============================] - 6s 141ms/step - loss: 0.3800 - accuracy: 0.9412 - val_loss: 0.2744 - val_accuracy: 1.0000\n",
      "Epoch 13/50\n",
      "39/39 [==============================] - 6s 142ms/step - loss: 0.3777 - accuracy: 0.9150 - val_loss: 0.2575 - val_accuracy: 1.0000\n",
      "Epoch 14/50\n",
      "39/39 [==============================] - 6s 143ms/step - loss: 0.3516 - accuracy: 0.9477 - val_loss: 0.2421 - val_accuracy: 1.0000\n",
      "Epoch 15/50\n",
      "39/39 [==============================] - 6s 142ms/step - loss: 0.3092 - accuracy: 0.9804 - val_loss: 0.2290 - val_accuracy: 1.0000\n",
      "Epoch 16/50\n",
      "39/39 [==============================] - 6s 142ms/step - loss: 0.3262 - accuracy: 0.9346 - val_loss: 0.2160 - val_accuracy: 1.0000\n",
      "Epoch 17/50\n",
      "39/39 [==============================] - 6s 144ms/step - loss: 0.3151 - accuracy: 0.9615 - val_loss: 0.2036 - val_accuracy: 1.0000\n",
      "Epoch 18/50\n",
      "39/39 [==============================] - 6s 143ms/step - loss: 0.3079 - accuracy: 0.9542 - val_loss: 0.1930 - val_accuracy: 1.0000\n",
      "Epoch 19/50\n",
      "39/39 [==============================] - 6s 143ms/step - loss: 0.2999 - accuracy: 0.9412 - val_loss: 0.1815 - val_accuracy: 1.0000\n",
      "Epoch 20/50\n",
      "39/39 [==============================] - 6s 143ms/step - loss: 0.2786 - accuracy: 0.9804 - val_loss: 0.1657 - val_accuracy: 1.0000\n",
      "Epoch 21/50\n",
      "39/39 [==============================] - 6s 142ms/step - loss: 0.2800 - accuracy: 0.9739 - val_loss: 0.1533 - val_accuracy: 1.0000\n",
      "Epoch 22/50\n",
      "39/39 [==============================] - 6s 143ms/step - loss: 0.2728 - accuracy: 0.9804 - val_loss: 0.1453 - val_accuracy: 1.0000\n",
      "Epoch 23/50\n",
      "39/39 [==============================] - 6s 143ms/step - loss: 0.2529 - accuracy: 0.9935 - val_loss: 0.1375 - val_accuracy: 1.0000\n",
      "Epoch 24/50\n",
      "39/39 [==============================] - 6s 143ms/step - loss: 0.2855 - accuracy: 0.9608 - val_loss: 0.1299 - val_accuracy: 1.0000\n",
      "Epoch 25/50\n",
      "39/39 [==============================] - 6s 143ms/step - loss: 0.2275 - accuracy: 0.9804 - val_loss: 0.1242 - val_accuracy: 1.0000\n",
      "Epoch 26/50\n",
      "39/39 [==============================] - 6s 143ms/step - loss: 0.2084 - accuracy: 0.9935 - val_loss: 0.1180 - val_accuracy: 1.0000\n",
      "Epoch 27/50\n",
      "39/39 [==============================] - 6s 142ms/step - loss: 0.2177 - accuracy: 0.9935 - val_loss: 0.1123 - val_accuracy: 1.0000\n",
      "Epoch 28/50\n",
      "39/39 [==============================] - 6s 143ms/step - loss: 0.2153 - accuracy: 0.9739 - val_loss: 0.1070 - val_accuracy: 1.0000\n",
      "Epoch 29/50\n",
      "39/39 [==============================] - 6s 141ms/step - loss: 0.2173 - accuracy: 0.9869 - val_loss: 0.1021 - val_accuracy: 1.0000\n",
      "Epoch 30/50\n",
      "39/39 [==============================] - 6s 142ms/step - loss: 0.1854 - accuracy: 0.9869 - val_loss: 0.0974 - val_accuracy: 1.0000\n",
      "Epoch 31/50\n",
      "39/39 [==============================] - 6s 141ms/step - loss: 0.1815 - accuracy: 0.9935 - val_loss: 0.0928 - val_accuracy: 1.0000\n",
      "Epoch 32/50\n",
      "39/39 [==============================] - 6s 142ms/step - loss: 0.1922 - accuracy: 0.9739 - val_loss: 0.0887 - val_accuracy: 1.0000\n",
      "Epoch 33/50\n",
      "39/39 [==============================] - 6s 145ms/step - loss: 0.1947 - accuracy: 0.9804 - val_loss: 0.0852 - val_accuracy: 1.0000\n",
      "Epoch 34/50\n",
      "39/39 [==============================] - 6s 143ms/step - loss: 0.1646 - accuracy: 0.9804 - val_loss: 0.0817 - val_accuracy: 1.0000\n",
      "Epoch 35/50\n",
      "39/39 [==============================] - 6s 143ms/step - loss: 0.1889 - accuracy: 0.9869 - val_loss: 0.0783 - val_accuracy: 1.0000\n",
      "Epoch 36/50\n",
      "39/39 [==============================] - 6s 145ms/step - loss: 0.1639 - accuracy: 0.9869 - val_loss: 0.0748 - val_accuracy: 1.0000\n",
      "Epoch 37/50\n",
      "39/39 [==============================] - 6s 143ms/step - loss: 0.1672 - accuracy: 0.9869 - val_loss: 0.0716 - val_accuracy: 1.0000\n",
      "Epoch 38/50\n",
      "39/39 [==============================] - 6s 143ms/step - loss: 0.1524 - accuracy: 1.0000 - val_loss: 0.0679 - val_accuracy: 1.0000\n",
      "Epoch 39/50\n",
      "39/39 [==============================] - 6s 142ms/step - loss: 0.1749 - accuracy: 0.9935 - val_loss: 0.0648 - val_accuracy: 1.0000\n",
      "Epoch 40/50\n",
      "39/39 [==============================] - 6s 143ms/step - loss: 0.1353 - accuracy: 0.9869 - val_loss: 0.0617 - val_accuracy: 1.0000\n",
      "Epoch 41/50\n",
      "39/39 [==============================] - 6s 143ms/step - loss: 0.1496 - accuracy: 0.9935 - val_loss: 0.0598 - val_accuracy: 1.0000\n",
      "Epoch 42/50\n",
      "39/39 [==============================] - 6s 142ms/step - loss: 0.1568 - accuracy: 0.9869 - val_loss: 0.0577 - val_accuracy: 1.0000\n",
      "Epoch 43/50\n",
      "39/39 [==============================] - 6s 143ms/step - loss: 0.1321 - accuracy: 1.0000 - val_loss: 0.0553 - val_accuracy: 1.0000\n",
      "Epoch 44/50\n",
      "39/39 [==============================] - 6s 142ms/step - loss: 0.1706 - accuracy: 0.9673 - val_loss: 0.0540 - val_accuracy: 1.0000\n",
      "Epoch 45/50\n",
      "39/39 [==============================] - 6s 143ms/step - loss: 0.1211 - accuracy: 0.9935 - val_loss: 0.0514 - val_accuracy: 1.0000\n",
      "Epoch 46/50\n",
      "39/39 [==============================] - 6s 142ms/step - loss: 0.1506 - accuracy: 0.9739 - val_loss: 0.0495 - val_accuracy: 1.0000\n",
      "Epoch 47/50\n",
      "39/39 [==============================] - 6s 142ms/step - loss: 0.1286 - accuracy: 0.9935 - val_loss: 0.0476 - val_accuracy: 1.0000\n",
      "Epoch 48/50\n",
      "39/39 [==============================] - 6s 143ms/step - loss: 0.1139 - accuracy: 0.9869 - val_loss: 0.0458 - val_accuracy: 1.0000\n",
      "Epoch 49/50\n",
      "39/39 [==============================] - 6s 143ms/step - loss: 0.1379 - accuracy: 0.9804 - val_loss: 0.0442 - val_accuracy: 1.0000\n",
      "Epoch 50/50\n",
      "39/39 [==============================] - 6s 145ms/step - loss: 0.0966 - accuracy: 1.0000 - val_loss: 0.0426 - val_accuracy: 1.0000\n"
     ]
    },
    {
     "data": {
      "text/plain": [
       "<tensorflow.python.keras.callbacks.History at 0x187fb1ebb20>"
      ]
     },
     "execution_count": 9,
     "metadata": {},
     "output_type": "execute_result"
    }
   ],
   "source": [
    "model.fit_generator(train_generator,\n",
    "                   epochs=EPOCHS,\n",
    "                   steps_per_epoch=train_num // BATCH_SIZE,\n",
    "                   validation_data=valid_generator,\n",
    "                   validation_steps=valid_num // BATCH_SIZE)"
   ]
  },
  {
   "cell_type": "code",
   "execution_count": 10,
   "metadata": {},
   "outputs": [
    {
     "name": "stdout",
     "output_type": "stream",
     "text": [
      "2/5 [===========>..................] - ETA: 0sWARNING:tensorflow:Callbacks method `on_predict_batch_end` is slow compared to the batch time (batch time: 0.0170s vs `on_predict_batch_end` time: 0.1260s). Check your callbacks.\n",
      "5/5 [==============================] - 1s 155ms/step\n",
      "              precision    recall  f1-score   support\n",
      "\n",
      "          N1       0.64      0.64      0.64        11\n",
      "          N2       0.56      0.56      0.56         9\n",
      "\n",
      "    accuracy                           0.60        20\n",
      "   macro avg       0.60      0.60      0.60        20\n",
      "weighted avg       0.60      0.60      0.60        20\n",
      "\n"
     ]
    }
   ],
   "source": [
    "# Avaliacoes sobre o modelo\n",
    "\n",
    "# Tendo acesso ao \"ground truth\" do dataset para teste\n",
    "y_true=test_generator.labels\n",
    "\n",
    "# Prevendo a propabilidade da distribuicao do dataset\n",
    "prediction=model.predict(test_generator, verbose=1)\n",
    "\n",
    "# Pegando a classe com maior probabilidade para cada exemplo\n",
    "y_pred=np.argmax(prediction, axis=1)\n",
    "\n",
    "# Gerando o relatorio de classificacao\n",
    "print(classification_report(y_true, y_pred, target_names=['N1', 'N2']))"
   ]
  },
  {
   "cell_type": "code",
   "execution_count": 11,
   "metadata": {},
   "outputs": [
    {
     "data": {
      "image/png": "[encoded data removed]",
      "text/plain": [
       "<Figure size 432x288 with 1 Axes>"
      ]
     },
     "metadata": {
      "needs_background": "light"
     },
     "output_type": "display_data"
    }
   ],
   "source": [
    "# Elaborando plot para matriz de confusão\n",
    "class_names=['N1', 'N2']\n",
    "cm=confusion_matrix(y_true, y_pred)\n",
    "title=\"Matriz de confusão N1-vs-N2\"\n",
    "plt.imshow(cm, interpolation='nearest', cmap=plt.cm.Blues)\n",
    "plt.title(title)\n",
    "tick_marks=np.arange(len(class_names))\n",
    "plt.xticks(tick_marks, class_names)\n",
    "plt.yticks(tick_marks, class_names)\n",
    "thresh=cm.max()/2\n",
    "\n",
    "for i, j in itertools.product(range(cm.shape[0]), range(cm.shape[1])):\n",
    "    plt.text(j, i, format(cm[i, j], 'd'),\n",
    "             horizontalalignment=\"center\",\n",
    "             color=\"black\")\n",
    "             #color=\"white\" if cm[i, j] > thresh else \"black\")\n",
    "\n",
    "plt.ylabel('True label')\n",
    "plt.xlabel('Predicted label')\n",
    "plt.tight_layout()"
   ]
  },
  {
   "cell_type": "code",
   "execution_count": 14,
   "metadata": {},
   "outputs": [],
   "source": [
    "'''\n",
    "pickle_out = open(\"model.pkl\",\"wb\")\n",
    "pickle.dump(model, pickle_out)\n",
    "pickle_out.close()\n",
    "'''\n",
    "\n",
    "model.save('neut_classifier.h5')"
   ]
  },
  {
   "cell_type": "code",
   "execution_count": null,
   "metadata": {},
   "outputs": [],
   "source": []
  }
 ],
 "metadata": {
  "kernelspec": {
   "display_name": "Python 3.8.5 (neutroT)",
   "language": "python",
   "name": "neutrot"
  },
  "language_info": {
   "codemirror_mode": {
    "name": "ipython",
    "version": 3
   },
   "file_extension": ".py",
   "mimetype": "text/x-python",
   "name": "python",
   "nbconvert_exporter": "python",
   "pygments_lexer": "ipython3",
   "version": "3.8.5"
  }
 },
 "nbformat": 4,
 "nbformat_minor": 4
}
